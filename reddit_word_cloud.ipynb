{
 "cells": [
  {
   "cell_type": "markdown",
   "metadata": {},
   "source": [
    "## Creating Word Clouds of each Target Subreddit (r/TheRedPill, r/Feminism, r/technews)"
   ]
  },
  {
   "cell_type": "markdown",
   "metadata": {},
   "source": [
    "Installing the package \"wordcloud\" if not already on your machine."
   ]
  },
  {
   "cell_type": "code",
   "execution_count": null,
   "metadata": {},
   "outputs": [],
   "source": [
    "! pip install wordcloud"
   ]
  },
  {
   "cell_type": "markdown",
   "metadata": {},
   "source": [
    "Importing the pickle file"
   ]
  },
  {
   "cell_type": "code",
   "execution_count": 2,
   "metadata": {},
   "outputs": [],
   "source": [
    "import pickle\n",
    "comments_corpus = pickle.load(open(\"reddit_full_cleaned.pickle\",\"rb\"))"
   ]
  },
  {
   "cell_type": "code",
   "execution_count": 41,
   "metadata": {},
   "outputs": [
    {
     "data": {
      "text/html": [
       "<div>\n",
       "<style scoped>\n",
       "    .dataframe tbody tr th:only-of-type {\n",
       "        vertical-align: middle;\n",
       "    }\n",
       "\n",
       "    .dataframe tbody tr th {\n",
       "        vertical-align: top;\n",
       "    }\n",
       "\n",
       "    .dataframe thead th {\n",
       "        text-align: right;\n",
       "    }\n",
       "</style>\n",
       "<table border=\"1\" class=\"dataframe\">\n",
       "  <thead>\n",
       "    <tr style=\"text-align: right;\">\n",
       "      <th></th>\n",
       "      <th>subreddit</th>\n",
       "      <th>comment</th>\n",
       "      <th>time created</th>\n",
       "      <th>cleaned_text</th>\n",
       "    </tr>\n",
       "  </thead>\n",
       "  <tbody>\n",
       "    <tr>\n",
       "      <th>0</th>\n",
       "      <td>TheRedPill</td>\n",
       "      <td>Why the fuck would you be friends with an ex?</td>\n",
       "      <td>1451606442</td>\n",
       "      <td>fuck would friends ex</td>\n",
       "    </tr>\n",
       "    <tr>\n",
       "      <th>1</th>\n",
       "      <td>TheRedPill</td>\n",
       "      <td>Great story full of RP truths. Thanks. Conside...</td>\n",
       "      <td>1451606479</td>\n",
       "      <td>great story full rp truths thanks consider mak...</td>\n",
       "    </tr>\n",
       "    <tr>\n",
       "      <th>2</th>\n",
       "      <td>TheRedPill</td>\n",
       "      <td>Lets suss this out. \\n\\nFor one; she's either ...</td>\n",
       "      <td>1451606497</td>\n",
       "      <td>lets suss one shes either got high paying job ...</td>\n",
       "    </tr>\n",
       "    <tr>\n",
       "      <th>3</th>\n",
       "      <td>TheRedPill</td>\n",
       "      <td>Sounds like you may need some more treatment f...</td>\n",
       "      <td>1451606532</td>\n",
       "      <td>sounds like may need treatment anxiety crucial...</td>\n",
       "    </tr>\n",
       "    <tr>\n",
       "      <th>4</th>\n",
       "      <td>TheRedPill</td>\n",
       "      <td>hack her phone or fb, its the only way you'll ...</td>\n",
       "      <td>1451606539</td>\n",
       "      <td>hack her phone fb way youll truly know think h...</td>\n",
       "    </tr>\n",
       "  </tbody>\n",
       "</table>\n",
       "</div>"
      ],
      "text/plain": [
       "    subreddit                                            comment  \\\n",
       "0  TheRedPill     Why the fuck would you be friends with an ex?    \n",
       "1  TheRedPill  Great story full of RP truths. Thanks. Conside...   \n",
       "2  TheRedPill  Lets suss this out. \\n\\nFor one; she's either ...   \n",
       "3  TheRedPill  Sounds like you may need some more treatment f...   \n",
       "4  TheRedPill  hack her phone or fb, its the only way you'll ...   \n",
       "\n",
       "   time created                                       cleaned_text  \n",
       "0    1451606442                              fuck would friends ex  \n",
       "1    1451606479  great story full rp truths thanks consider mak...  \n",
       "2    1451606497  lets suss one shes either got high paying job ...  \n",
       "3    1451606532  sounds like may need treatment anxiety crucial...  \n",
       "4    1451606539  hack her phone fb way youll truly know think h...  "
      ]
     },
     "execution_count": 41,
     "metadata": {},
     "output_type": "execute_result"
    }
   ],
   "source": [
    "comments_corpus.head()"
   ]
  },
  {
   "cell_type": "markdown",
   "metadata": {},
   "source": [
    "Separating each subreddit into a separate dataframe (pill, fem, and tech)"
   ]
  },
  {
   "cell_type": "code",
   "execution_count": 4,
   "metadata": {},
   "outputs": [],
   "source": [
    "pill = comments_corpus.loc[comments_corpus['subreddit'] == 'TheRedPill']\n",
    "fem = comments_corpus.loc[comments_corpus['subreddit'] == 'Feminism']\n",
    "tech = comments_corpus.loc[comments_corpus['subreddit'] == 'technews']"
   ]
  },
  {
   "cell_type": "code",
   "execution_count": 10,
   "metadata": {},
   "outputs": [
    {
     "data": {
      "text/html": [
       "<div>\n",
       "<style scoped>\n",
       "    .dataframe tbody tr th:only-of-type {\n",
       "        vertical-align: middle;\n",
       "    }\n",
       "\n",
       "    .dataframe tbody tr th {\n",
       "        vertical-align: top;\n",
       "    }\n",
       "\n",
       "    .dataframe thead th {\n",
       "        text-align: right;\n",
       "    }\n",
       "</style>\n",
       "<table border=\"1\" class=\"dataframe\">\n",
       "  <thead>\n",
       "    <tr style=\"text-align: right;\">\n",
       "      <th></th>\n",
       "      <th>subreddit</th>\n",
       "      <th>comment</th>\n",
       "      <th>time created</th>\n",
       "      <th>cleaned_text</th>\n",
       "    </tr>\n",
       "  </thead>\n",
       "  <tbody>\n",
       "    <tr>\n",
       "      <th>0</th>\n",
       "      <td>TheRedPill</td>\n",
       "      <td>Why the fuck would you be friends with an ex?</td>\n",
       "      <td>1451606442</td>\n",
       "      <td>fuck would friends ex</td>\n",
       "    </tr>\n",
       "    <tr>\n",
       "      <th>1</th>\n",
       "      <td>TheRedPill</td>\n",
       "      <td>Great story full of RP truths. Thanks. Conside...</td>\n",
       "      <td>1451606479</td>\n",
       "      <td>great story full rp truths thanks consider mak...</td>\n",
       "    </tr>\n",
       "    <tr>\n",
       "      <th>2</th>\n",
       "      <td>TheRedPill</td>\n",
       "      <td>Lets suss this out. \\n\\nFor one; she's either ...</td>\n",
       "      <td>1451606497</td>\n",
       "      <td>lets suss one shes either got high paying job ...</td>\n",
       "    </tr>\n",
       "    <tr>\n",
       "      <th>3</th>\n",
       "      <td>TheRedPill</td>\n",
       "      <td>Sounds like you may need some more treatment f...</td>\n",
       "      <td>1451606532</td>\n",
       "      <td>sounds like may need treatment anxiety crucial...</td>\n",
       "    </tr>\n",
       "    <tr>\n",
       "      <th>4</th>\n",
       "      <td>TheRedPill</td>\n",
       "      <td>hack her phone or fb, its the only way you'll ...</td>\n",
       "      <td>1451606539</td>\n",
       "      <td>hack her phone fb way youll truly know think h...</td>\n",
       "    </tr>\n",
       "  </tbody>\n",
       "</table>\n",
       "</div>"
      ],
      "text/plain": [
       "    subreddit                                            comment  \\\n",
       "0  TheRedPill     Why the fuck would you be friends with an ex?    \n",
       "1  TheRedPill  Great story full of RP truths. Thanks. Conside...   \n",
       "2  TheRedPill  Lets suss this out. \\n\\nFor one; she's either ...   \n",
       "3  TheRedPill  Sounds like you may need some more treatment f...   \n",
       "4  TheRedPill  hack her phone or fb, its the only way you'll ...   \n",
       "\n",
       "   time created                                       cleaned_text  \n",
       "0    1451606442                              fuck would friends ex  \n",
       "1    1451606479  great story full rp truths thanks consider mak...  \n",
       "2    1451606497  lets suss one shes either got high paying job ...  \n",
       "3    1451606532  sounds like may need treatment anxiety crucial...  \n",
       "4    1451606539  hack her phone fb way youll truly know think h...  "
      ]
     },
     "execution_count": 10,
     "metadata": {},
     "output_type": "execute_result"
    }
   ],
   "source": [
    "pill.head()"
   ]
  },
  {
   "cell_type": "code",
   "execution_count": 11,
   "metadata": {},
   "outputs": [
    {
     "data": {
      "text/html": [
       "<div>\n",
       "<style scoped>\n",
       "    .dataframe tbody tr th:only-of-type {\n",
       "        vertical-align: middle;\n",
       "    }\n",
       "\n",
       "    .dataframe tbody tr th {\n",
       "        vertical-align: top;\n",
       "    }\n",
       "\n",
       "    .dataframe thead th {\n",
       "        text-align: right;\n",
       "    }\n",
       "</style>\n",
       "<table border=\"1\" class=\"dataframe\">\n",
       "  <thead>\n",
       "    <tr style=\"text-align: right;\">\n",
       "      <th></th>\n",
       "      <th>subreddit</th>\n",
       "      <th>comment</th>\n",
       "      <th>time created</th>\n",
       "      <th>cleaned_text</th>\n",
       "    </tr>\n",
       "  </thead>\n",
       "  <tbody>\n",
       "    <tr>\n",
       "      <th>535804</th>\n",
       "      <td>Feminism</td>\n",
       "      <td>[removed]</td>\n",
       "      <td>1451607428</td>\n",
       "      <td>removed</td>\n",
       "    </tr>\n",
       "    <tr>\n",
       "      <th>535805</th>\n",
       "      <td>Feminism</td>\n",
       "      <td>[removed]</td>\n",
       "      <td>1451613380</td>\n",
       "      <td>removed</td>\n",
       "    </tr>\n",
       "    <tr>\n",
       "      <th>535806</th>\n",
       "      <td>Feminism</td>\n",
       "      <td>Yep, stand by what I said.</td>\n",
       "      <td>1451616939</td>\n",
       "      <td>yep stand said</td>\n",
       "    </tr>\n",
       "    <tr>\n",
       "      <th>535807</th>\n",
       "      <td>Feminism</td>\n",
       "      <td>Yes, it is a major obstacle worldwide along wi...</td>\n",
       "      <td>1451619139</td>\n",
       "      <td>yes major obstacle worldwide along religions h...</td>\n",
       "    </tr>\n",
       "    <tr>\n",
       "      <th>535808</th>\n",
       "      <td>Feminism</td>\n",
       "      <td>[removed]</td>\n",
       "      <td>1451620891</td>\n",
       "      <td>removed</td>\n",
       "    </tr>\n",
       "  </tbody>\n",
       "</table>\n",
       "</div>"
      ],
      "text/plain": [
       "       subreddit                                            comment  \\\n",
       "535804  Feminism                                          [removed]   \n",
       "535805  Feminism                                          [removed]   \n",
       "535806  Feminism                         Yep, stand by what I said.   \n",
       "535807  Feminism  Yes, it is a major obstacle worldwide along wi...   \n",
       "535808  Feminism                                          [removed]   \n",
       "\n",
       "        time created                                       cleaned_text  \n",
       "535804    1451607428                                            removed  \n",
       "535805    1451613380                                            removed  \n",
       "535806    1451616939                                     yep stand said  \n",
       "535807    1451619139  yes major obstacle worldwide along religions h...  \n",
       "535808    1451620891                                            removed  "
      ]
     },
     "execution_count": 11,
     "metadata": {},
     "output_type": "execute_result"
    }
   ],
   "source": [
    "fem.head()"
   ]
  },
  {
   "cell_type": "code",
   "execution_count": 12,
   "metadata": {},
   "outputs": [
    {
     "data": {
      "text/html": [
       "<div>\n",
       "<style scoped>\n",
       "    .dataframe tbody tr th:only-of-type {\n",
       "        vertical-align: middle;\n",
       "    }\n",
       "\n",
       "    .dataframe tbody tr th {\n",
       "        vertical-align: top;\n",
       "    }\n",
       "\n",
       "    .dataframe thead th {\n",
       "        text-align: right;\n",
       "    }\n",
       "</style>\n",
       "<table border=\"1\" class=\"dataframe\">\n",
       "  <thead>\n",
       "    <tr style=\"text-align: right;\">\n",
       "      <th></th>\n",
       "      <th>subreddit</th>\n",
       "      <th>comment</th>\n",
       "      <th>time created</th>\n",
       "      <th>cleaned_text</th>\n",
       "    </tr>\n",
       "  </thead>\n",
       "  <tbody>\n",
       "    <tr>\n",
       "      <th>571558</th>\n",
       "      <td>technews</td>\n",
       "      <td>This is very good to see.  Anything that remov...</td>\n",
       "      <td>1451899182</td>\n",
       "      <td>good see anything removes reliance oil good thing</td>\n",
       "    </tr>\n",
       "    <tr>\n",
       "      <th>571559</th>\n",
       "      <td>technews</td>\n",
       "      <td>Aren't they energy providers? Down here they s...</td>\n",
       "      <td>1451912433</td>\n",
       "      <td>arent energy providers supply electricity beli...</td>\n",
       "    </tr>\n",
       "    <tr>\n",
       "      <th>571560</th>\n",
       "      <td>technews</td>\n",
       "      <td>[deleted]</td>\n",
       "      <td>1451920030</td>\n",
       "      <td>deleted</td>\n",
       "    </tr>\n",
       "    <tr>\n",
       "      <th>571561</th>\n",
       "      <td>technews</td>\n",
       "      <td>At lower speeds.\\n\\nThis is meant to be for lo...</td>\n",
       "      <td>1451936869</td>\n",
       "      <td>lower speeds meant low bandwidth bursty devices</td>\n",
       "    </tr>\n",
       "    <tr>\n",
       "      <th>571562</th>\n",
       "      <td>technews</td>\n",
       "      <td>Down here they provide electricity too, or use...</td>\n",
       "      <td>1451941414</td>\n",
       "      <td>provide electricity used</td>\n",
       "    </tr>\n",
       "  </tbody>\n",
       "</table>\n",
       "</div>"
      ],
      "text/plain": [
       "       subreddit                                            comment  \\\n",
       "571558  technews  This is very good to see.  Anything that remov...   \n",
       "571559  technews  Aren't they energy providers? Down here they s...   \n",
       "571560  technews                                          [deleted]   \n",
       "571561  technews  At lower speeds.\\n\\nThis is meant to be for lo...   \n",
       "571562  technews  Down here they provide electricity too, or use...   \n",
       "\n",
       "        time created                                       cleaned_text  \n",
       "571558    1451899182  good see anything removes reliance oil good thing  \n",
       "571559    1451912433  arent energy providers supply electricity beli...  \n",
       "571560    1451920030                                            deleted  \n",
       "571561    1451936869    lower speeds meant low bandwidth bursty devices  \n",
       "571562    1451941414                           provide electricity used  "
      ]
     },
     "execution_count": 12,
     "metadata": {},
     "output_type": "execute_result"
    }
   ],
   "source": [
    "tech.head()"
   ]
  },
  {
   "cell_type": "markdown",
   "metadata": {},
   "source": [
    "Processing the word cloud for r/TheRedPill"
   ]
  },
  {
   "cell_type": "code",
   "execution_count": 26,
   "metadata": {},
   "outputs": [
    {
     "data": {
      "text/plain": [
       "<wordcloud.wordcloud.WordCloud at 0x7ff5020d7cd0>"
      ]
     },
     "execution_count": 26,
     "metadata": {},
     "output_type": "execute_result"
    }
   ],
   "source": [
    "# Import the wordcloud library\n",
    "from wordcloud import WordCloud\n",
    "\n",
    "# Join the different processed texts together.\n",
    "long_string = ','.join(list(pill['cleaned_text'].values))\n",
    "\n",
    "# Create a WordCloud object\n",
    "wordcloud = WordCloud(background_color=\"white\", max_words=5000, \n",
    "                      contour_width=3, contour_color='steelblue')\n",
    "\n",
    "# Generate a word cloud\n",
    "wordcloud.generate(long_string)\n",
    "\n",
    "# Visualize the word cloud\n",
    "wordcloud.to_image()\n",
    "\n",
    "# Save to file\n",
    "wordcloud.to_file(\"RedPillWordCloud.png\")"
   ]
  },
  {
   "cell_type": "markdown",
   "metadata": {},
   "source": [
    "Processing the word cloud for r/Feminism"
   ]
  },
  {
   "cell_type": "code",
   "execution_count": 39,
   "metadata": {},
   "outputs": [
    {
     "data": {
      "text/plain": [
       "<wordcloud.wordcloud.WordCloud at 0x7ff41d5def50>"
      ]
     },
     "execution_count": 39,
     "metadata": {},
     "output_type": "execute_result"
    }
   ],
   "source": [
    "# Import the wordcloud library\n",
    "from wordcloud import WordCloud\n",
    "\n",
    "# Join the different processed texts together.\n",
    "long_string = ','.join(list(fem['cleaned_text'].values))\n",
    "\n",
    "# Create a WordCloud object\n",
    "wordcloud = WordCloud(background_color=\"white\", max_words=5000, \n",
    "                      colormap = 'tab10', contour_width=3, contour_color='steelblue')\n",
    "\n",
    "# Generate a word cloud\n",
    "wordcloud.generate(long_string)\n",
    "\n",
    "# Visualize the word cloud\n",
    "wordcloud.to_image()\n",
    "\n",
    "# Save to file\n",
    "wordcloud.to_file(\"FeminismWordCloud.png\")"
   ]
  },
  {
   "cell_type": "markdown",
   "metadata": {},
   "source": [
    "Processing the word cloud for r/technews"
   ]
  },
  {
   "cell_type": "code",
   "execution_count": 38,
   "metadata": {},
   "outputs": [
    {
     "data": {
      "text/plain": [
       "<wordcloud.wordcloud.WordCloud at 0x7ff41d5e7910>"
      ]
     },
     "execution_count": 38,
     "metadata": {},
     "output_type": "execute_result"
    }
   ],
   "source": [
    "# Import the wordcloud library\n",
    "from wordcloud import WordCloud\n",
    "\n",
    "# Join the different processed texts together.\n",
    "long_string = ','.join(list(tech['cleaned_text'].values))\n",
    "\n",
    "# Create a WordCloud object\n",
    "wordcloud = WordCloud(background_color=\"white\", max_words=5000, \n",
    "                      colormap = 'tab20c', contour_width=3, contour_color='steelblue')\n",
    "\n",
    "# Generate a word cloud\n",
    "wordcloud.generate(long_string)\n",
    "\n",
    "# Visualize the word cloud\n",
    "wordcloud.to_image()\n",
    "\n",
    "# Save to file\n",
    "wordcloud.to_file(\"TechNewsWordCloud.png\")"
   ]
  }
 ],
 "metadata": {
  "kernelspec": {
   "display_name": "Python 3",
   "language": "python",
   "name": "python3"
  },
  "language_info": {
   "codemirror_mode": {
    "name": "ipython",
    "version": 3
   },
   "file_extension": ".py",
   "mimetype": "text/x-python",
   "name": "python",
   "nbconvert_exporter": "python",
   "pygments_lexer": "ipython3",
   "version": "3.7.9"
  }
 },
 "nbformat": 4,
 "nbformat_minor": 4
}
