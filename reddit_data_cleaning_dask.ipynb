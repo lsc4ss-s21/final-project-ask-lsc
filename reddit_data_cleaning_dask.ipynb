{
 "cells": [
  {
   "cell_type": "markdown",
   "metadata": {},
   "source": [
    "# Cleaning Text using Dask\n",
    "\n",
    "* Cleans text for special characters and removes stopwords"
   ]
  },
  {
   "cell_type": "code",
   "execution_count": 1,
   "metadata": {},
   "outputs": [],
   "source": [
    "from dask_yarn import YarnCluster\n",
    "from dask.distributed import Client"
   ]
  },
  {
   "cell_type": "code",
   "execution_count": 3,
   "metadata": {
    "scrolled": true
   },
   "outputs": [
    {
     "name": "stdout",
     "output_type": "stream",
     "text": [
      "Requirement already satisfied: nltk in ./miniconda/lib/python3.7/site-packages (3.6.2)\n",
      "Requirement already satisfied: tqdm in ./miniconda/lib/python3.7/site-packages (from nltk) (4.59.0)\n",
      "Requirement already satisfied: regex in ./miniconda/lib/python3.7/site-packages (from nltk) (2021.4.4)\n",
      "Requirement already satisfied: click in ./miniconda/lib/python3.7/site-packages (from nltk) (7.1.2)\n",
      "Requirement already satisfied: joblib in ./miniconda/lib/python3.7/site-packages (from nltk) (1.0.1)\n",
      "Requirement already satisfied: spacy in ./miniconda/lib/python3.7/site-packages (3.0.6)\n",
      "Requirement already satisfied: requests<3.0.0,>=2.13.0 in ./miniconda/lib/python3.7/site-packages (from spacy) (2.25.1)\n",
      "Requirement already satisfied: blis<0.8.0,>=0.4.0 in ./miniconda/lib/python3.7/site-packages (from spacy) (0.7.4)\n",
      "Requirement already satisfied: setuptools in ./miniconda/lib/python3.7/site-packages (from spacy) (52.0.0.post20210125)\n",
      "Requirement already satisfied: srsly<3.0.0,>=2.4.1 in ./miniconda/lib/python3.7/site-packages (from spacy) (2.4.1)\n",
      "Requirement already satisfied: pathy>=0.3.5 in ./miniconda/lib/python3.7/site-packages (from spacy) (0.5.2)\n",
      "Requirement already satisfied: thinc<8.1.0,>=8.0.3 in ./miniconda/lib/python3.7/site-packages (from spacy) (8.0.3)\n",
      "Requirement already satisfied: catalogue<2.1.0,>=2.0.3 in ./miniconda/lib/python3.7/site-packages (from spacy) (2.0.4)\n",
      "Requirement already satisfied: packaging>=20.0 in ./miniconda/lib/python3.7/site-packages (from spacy) (20.9)\n",
      "Requirement already satisfied: typing-extensions<4.0.0.0,>=3.7.4 in ./miniconda/lib/python3.7/site-packages (from spacy) (3.10.0.0)\n",
      "Requirement already satisfied: wasabi<1.1.0,>=0.8.1 in ./miniconda/lib/python3.7/site-packages (from spacy) (0.8.2)\n",
      "Requirement already satisfied: pydantic<1.8.0,>=1.7.1 in ./miniconda/lib/python3.7/site-packages (from spacy) (1.7.3)\n",
      "Requirement already satisfied: numpy>=1.15.0 in ./miniconda/lib/python3.7/site-packages (from spacy) (1.20.3)\n",
      "Requirement already satisfied: murmurhash<1.1.0,>=0.28.0 in ./miniconda/lib/python3.7/site-packages (from spacy) (1.0.5)\n",
      "Requirement already satisfied: tqdm<5.0.0,>=4.38.0 in ./miniconda/lib/python3.7/site-packages (from spacy) (4.59.0)\n",
      "Requirement already satisfied: preshed<3.1.0,>=3.0.2 in ./miniconda/lib/python3.7/site-packages (from spacy) (3.0.5)\n",
      "Requirement already satisfied: spacy-legacy<3.1.0,>=3.0.4 in ./miniconda/lib/python3.7/site-packages (from spacy) (3.0.5)\n",
      "Requirement already satisfied: cymem<2.1.0,>=2.0.2 in ./miniconda/lib/python3.7/site-packages (from spacy) (2.0.5)\n",
      "Requirement already satisfied: jinja2 in ./miniconda/lib/python3.7/site-packages (from spacy) (3.0.1)\n",
      "Requirement already satisfied: typer<0.4.0,>=0.3.0 in ./miniconda/lib/python3.7/site-packages (from spacy) (0.3.1)\n",
      "Requirement already satisfied: zipp>=0.5 in ./miniconda/lib/python3.7/site-packages (from catalogue<2.1.0,>=2.0.3->spacy) (3.4.1)\n",
      "Requirement already satisfied: pyparsing>=2.0.2 in ./miniconda/lib/python3.7/site-packages (from packaging>=20.0->spacy) (2.4.7)\n",
      "Requirement already satisfied: smart-open<4.0.0,>=2.2.0 in ./miniconda/lib/python3.7/site-packages (from pathy>=0.3.5->spacy) (2.2.1)\n",
      "Requirement already satisfied: chardet<5,>=3.0.2 in ./miniconda/lib/python3.7/site-packages (from requests<3.0.0,>=2.13.0->spacy) (4.0.0)\n",
      "Requirement already satisfied: idna<3,>=2.5 in ./miniconda/lib/python3.7/site-packages (from requests<3.0.0,>=2.13.0->spacy) (2.10)\n",
      "Requirement already satisfied: urllib3<1.27,>=1.21.1 in ./miniconda/lib/python3.7/site-packages (from requests<3.0.0,>=2.13.0->spacy) (1.26.4)\n",
      "Requirement already satisfied: certifi>=2017.4.17 in ./miniconda/lib/python3.7/site-packages (from requests<3.0.0,>=2.13.0->spacy) (2021.5.30)\n",
      "Requirement already satisfied: boto3 in ./miniconda/lib/python3.7/site-packages (from smart-open<4.0.0,>=2.2.0->pathy>=0.3.5->spacy) (1.17.87)\n",
      "Requirement already satisfied: click<7.2.0,>=7.1.1 in ./miniconda/lib/python3.7/site-packages (from typer<0.4.0,>=0.3.0->spacy) (7.1.2)\n",
      "Requirement already satisfied: botocore<1.21.0,>=1.20.87 in ./miniconda/lib/python3.7/site-packages (from boto3->smart-open<4.0.0,>=2.2.0->pathy>=0.3.5->spacy) (1.20.88)\n",
      "Requirement already satisfied: jmespath<1.0.0,>=0.7.1 in ./miniconda/lib/python3.7/site-packages (from boto3->smart-open<4.0.0,>=2.2.0->pathy>=0.3.5->spacy) (0.10.0)\n",
      "Requirement already satisfied: s3transfer<0.5.0,>=0.4.0 in ./miniconda/lib/python3.7/site-packages (from boto3->smart-open<4.0.0,>=2.2.0->pathy>=0.3.5->spacy) (0.4.2)\n",
      "Requirement already satisfied: python-dateutil<3.0.0,>=2.1 in ./miniconda/lib/python3.7/site-packages (from botocore<1.21.0,>=1.20.87->boto3->smart-open<4.0.0,>=2.2.0->pathy>=0.3.5->spacy) (2.8.1)\n",
      "Requirement already satisfied: six>=1.5 in ./miniconda/lib/python3.7/site-packages (from python-dateutil<3.0.0,>=2.1->botocore<1.21.0,>=1.20.87->boto3->smart-open<4.0.0,>=2.2.0->pathy>=0.3.5->spacy) (1.15.0)\n",
      "Requirement already satisfied: MarkupSafe>=2.0 in ./miniconda/lib/python3.7/site-packages (from jinja2->spacy) (2.0.1)\n",
      "Requirement already satisfied: dask in ./miniconda/lib/python3.7/site-packages (2021.5.1)\n",
      "Requirement already satisfied: fsspec>=0.6.0 in ./miniconda/lib/python3.7/site-packages (from dask) (2021.5.0)\n",
      "Requirement already satisfied: toolz>=0.8.2 in ./miniconda/lib/python3.7/site-packages (from dask) (0.11.1)\n",
      "Requirement already satisfied: partd>=0.3.10 in ./miniconda/lib/python3.7/site-packages (from dask) (1.2.0)\n",
      "Requirement already satisfied: pyyaml in ./miniconda/lib/python3.7/site-packages (from dask) (5.4.1)\n",
      "Requirement already satisfied: cloudpickle>=1.1.1 in ./miniconda/lib/python3.7/site-packages (from dask) (1.6.0)\n",
      "Requirement already satisfied: locket in ./miniconda/lib/python3.7/site-packages (from partd>=0.3.10->dask) (0.2.0)\n",
      "Collecting graphviz\n",
      "  Downloading graphviz-0.16-py2.py3-none-any.whl (19 kB)\n",
      "Installing collected packages: graphviz\n",
      "Successfully installed graphviz-0.16\n"
     ]
    }
   ],
   "source": [
    "! pip install nltk\n",
    "! pip install spacy\n",
    "! pip install dask\n",
    "! pip install graphviz"
   ]
  },
  {
   "cell_type": "code",
   "execution_count": 4,
   "metadata": {
    "scrolled": true
   },
   "outputs": [
    {
     "name": "stdout",
     "output_type": "stream",
     "text": [
      "Collecting en-core-web-sm==3.0.0\n",
      "  Downloading https://github.com/explosion/spacy-models/releases/download/en_core_web_sm-3.0.0/en_core_web_sm-3.0.0-py3-none-any.whl (13.7 MB)\n",
      "\u001b[K     |████████████████████████████████| 13.7 MB 9.8 MB/s eta 0:00:01\n",
      "\u001b[?25hRequirement already satisfied: spacy<3.1.0,>=3.0.0 in ./miniconda/lib/python3.7/site-packages (from en-core-web-sm==3.0.0) (3.0.6)\n",
      "Requirement already satisfied: numpy>=1.15.0 in ./miniconda/lib/python3.7/site-packages (from spacy<3.1.0,>=3.0.0->en-core-web-sm==3.0.0) (1.20.3)\n",
      "Requirement already satisfied: thinc<8.1.0,>=8.0.3 in ./miniconda/lib/python3.7/site-packages (from spacy<3.1.0,>=3.0.0->en-core-web-sm==3.0.0) (8.0.3)\n",
      "Requirement already satisfied: murmurhash<1.1.0,>=0.28.0 in ./miniconda/lib/python3.7/site-packages (from spacy<3.1.0,>=3.0.0->en-core-web-sm==3.0.0) (1.0.5)\n",
      "Requirement already satisfied: wasabi<1.1.0,>=0.8.1 in ./miniconda/lib/python3.7/site-packages (from spacy<3.1.0,>=3.0.0->en-core-web-sm==3.0.0) (0.8.2)\n",
      "Requirement already satisfied: jinja2 in ./miniconda/lib/python3.7/site-packages (from spacy<3.1.0,>=3.0.0->en-core-web-sm==3.0.0) (3.0.1)\n",
      "Requirement already satisfied: tqdm<5.0.0,>=4.38.0 in ./miniconda/lib/python3.7/site-packages (from spacy<3.1.0,>=3.0.0->en-core-web-sm==3.0.0) (4.59.0)\n",
      "Requirement already satisfied: spacy-legacy<3.1.0,>=3.0.4 in ./miniconda/lib/python3.7/site-packages (from spacy<3.1.0,>=3.0.0->en-core-web-sm==3.0.0) (3.0.5)\n",
      "Requirement already satisfied: catalogue<2.1.0,>=2.0.3 in ./miniconda/lib/python3.7/site-packages (from spacy<3.1.0,>=3.0.0->en-core-web-sm==3.0.0) (2.0.4)\n",
      "Requirement already satisfied: typer<0.4.0,>=0.3.0 in ./miniconda/lib/python3.7/site-packages (from spacy<3.1.0,>=3.0.0->en-core-web-sm==3.0.0) (0.3.1)\n",
      "Requirement already satisfied: packaging>=20.0 in ./miniconda/lib/python3.7/site-packages (from spacy<3.1.0,>=3.0.0->en-core-web-sm==3.0.0) (20.9)\n",
      "Requirement already satisfied: cymem<2.1.0,>=2.0.2 in ./miniconda/lib/python3.7/site-packages (from spacy<3.1.0,>=3.0.0->en-core-web-sm==3.0.0) (2.0.5)\n",
      "Requirement already satisfied: blis<0.8.0,>=0.4.0 in ./miniconda/lib/python3.7/site-packages (from spacy<3.1.0,>=3.0.0->en-core-web-sm==3.0.0) (0.7.4)\n",
      "Requirement already satisfied: pydantic<1.8.0,>=1.7.1 in ./miniconda/lib/python3.7/site-packages (from spacy<3.1.0,>=3.0.0->en-core-web-sm==3.0.0) (1.7.3)\n",
      "Requirement already satisfied: pathy>=0.3.5 in ./miniconda/lib/python3.7/site-packages (from spacy<3.1.0,>=3.0.0->en-core-web-sm==3.0.0) (0.5.2)\n",
      "Requirement already satisfied: requests<3.0.0,>=2.13.0 in ./miniconda/lib/python3.7/site-packages (from spacy<3.1.0,>=3.0.0->en-core-web-sm==3.0.0) (2.25.1)\n",
      "Requirement already satisfied: srsly<3.0.0,>=2.4.1 in ./miniconda/lib/python3.7/site-packages (from spacy<3.1.0,>=3.0.0->en-core-web-sm==3.0.0) (2.4.1)\n",
      "Requirement already satisfied: typing-extensions<4.0.0.0,>=3.7.4 in ./miniconda/lib/python3.7/site-packages (from spacy<3.1.0,>=3.0.0->en-core-web-sm==3.0.0) (3.10.0.0)\n",
      "Requirement already satisfied: setuptools in ./miniconda/lib/python3.7/site-packages (from spacy<3.1.0,>=3.0.0->en-core-web-sm==3.0.0) (52.0.0.post20210125)\n",
      "Requirement already satisfied: preshed<3.1.0,>=3.0.2 in ./miniconda/lib/python3.7/site-packages (from spacy<3.1.0,>=3.0.0->en-core-web-sm==3.0.0) (3.0.5)\n",
      "Requirement already satisfied: zipp>=0.5 in ./miniconda/lib/python3.7/site-packages (from catalogue<2.1.0,>=2.0.3->spacy<3.1.0,>=3.0.0->en-core-web-sm==3.0.0) (3.4.1)\n",
      "Requirement already satisfied: pyparsing>=2.0.2 in ./miniconda/lib/python3.7/site-packages (from packaging>=20.0->spacy<3.1.0,>=3.0.0->en-core-web-sm==3.0.0) (2.4.7)\n",
      "Requirement already satisfied: smart-open<4.0.0,>=2.2.0 in ./miniconda/lib/python3.7/site-packages (from pathy>=0.3.5->spacy<3.1.0,>=3.0.0->en-core-web-sm==3.0.0) (2.2.1)\n",
      "Requirement already satisfied: idna<3,>=2.5 in ./miniconda/lib/python3.7/site-packages (from requests<3.0.0,>=2.13.0->spacy<3.1.0,>=3.0.0->en-core-web-sm==3.0.0) (2.10)\n",
      "Requirement already satisfied: chardet<5,>=3.0.2 in ./miniconda/lib/python3.7/site-packages (from requests<3.0.0,>=2.13.0->spacy<3.1.0,>=3.0.0->en-core-web-sm==3.0.0) (4.0.0)\n",
      "Requirement already satisfied: urllib3<1.27,>=1.21.1 in ./miniconda/lib/python3.7/site-packages (from requests<3.0.0,>=2.13.0->spacy<3.1.0,>=3.0.0->en-core-web-sm==3.0.0) (1.26.4)\n",
      "Requirement already satisfied: certifi>=2017.4.17 in ./miniconda/lib/python3.7/site-packages (from requests<3.0.0,>=2.13.0->spacy<3.1.0,>=3.0.0->en-core-web-sm==3.0.0) (2021.5.30)\n",
      "Requirement already satisfied: boto3 in ./miniconda/lib/python3.7/site-packages (from smart-open<4.0.0,>=2.2.0->pathy>=0.3.5->spacy<3.1.0,>=3.0.0->en-core-web-sm==3.0.0) (1.17.87)\n",
      "Requirement already satisfied: click<7.2.0,>=7.1.1 in ./miniconda/lib/python3.7/site-packages (from typer<0.4.0,>=0.3.0->spacy<3.1.0,>=3.0.0->en-core-web-sm==3.0.0) (7.1.2)\n",
      "Requirement already satisfied: s3transfer<0.5.0,>=0.4.0 in ./miniconda/lib/python3.7/site-packages (from boto3->smart-open<4.0.0,>=2.2.0->pathy>=0.3.5->spacy<3.1.0,>=3.0.0->en-core-web-sm==3.0.0) (0.4.2)\n",
      "Requirement already satisfied: jmespath<1.0.0,>=0.7.1 in ./miniconda/lib/python3.7/site-packages (from boto3->smart-open<4.0.0,>=2.2.0->pathy>=0.3.5->spacy<3.1.0,>=3.0.0->en-core-web-sm==3.0.0) (0.10.0)\n",
      "Requirement already satisfied: botocore<1.21.0,>=1.20.87 in ./miniconda/lib/python3.7/site-packages (from boto3->smart-open<4.0.0,>=2.2.0->pathy>=0.3.5->spacy<3.1.0,>=3.0.0->en-core-web-sm==3.0.0) (1.20.88)\n",
      "Requirement already satisfied: python-dateutil<3.0.0,>=2.1 in ./miniconda/lib/python3.7/site-packages (from botocore<1.21.0,>=1.20.87->boto3->smart-open<4.0.0,>=2.2.0->pathy>=0.3.5->spacy<3.1.0,>=3.0.0->en-core-web-sm==3.0.0) (2.8.1)\n",
      "Requirement already satisfied: six>=1.5 in ./miniconda/lib/python3.7/site-packages (from python-dateutil<3.0.0,>=2.1->botocore<1.21.0,>=1.20.87->boto3->smart-open<4.0.0,>=2.2.0->pathy>=0.3.5->spacy<3.1.0,>=3.0.0->en-core-web-sm==3.0.0) (1.15.0)\n",
      "Requirement already satisfied: MarkupSafe>=2.0 in ./miniconda/lib/python3.7/site-packages (from jinja2->spacy<3.1.0,>=3.0.0->en-core-web-sm==3.0.0) (2.0.1)\n",
      "Installing collected packages: en-core-web-sm\n",
      "Successfully installed en-core-web-sm-3.0.0\n",
      "\u001b[38;5;2m✔ Download and installation successful\u001b[0m\n",
      "You can now load the package via spacy.load('en_core_web_sm')\n"
     ]
    }
   ],
   "source": [
    "!python3 -m spacy download en_core_web_sm"
   ]
  },
  {
   "cell_type": "code",
   "execution_count": 5,
   "metadata": {
    "scrolled": false
   },
   "outputs": [
    {
     "name": "stderr",
     "output_type": "stream",
     "text": [
      "[nltk_data] Downloading package stopwords to /home/hadoop/nltk_data...\n",
      "[nltk_data]   Unzipping corpora/stopwords.zip.\n",
      "[nltk_data] Downloading package wordnet to /home/hadoop/nltk_data...\n",
      "[nltk_data]   Unzipping corpora/wordnet.zip.\n",
      "[nltk_data] Downloading package punkt to /home/hadoop/nltk_data...\n",
      "[nltk_data]   Unzipping tokenizers/punkt.zip.\n"
     ]
    },
    {
     "data": {
      "text/plain": [
       "True"
      ]
     },
     "execution_count": 5,
     "metadata": {},
     "output_type": "execute_result"
    }
   ],
   "source": [
    "import dask\n",
    "import pickle\n",
    "from collections import Counter\n",
    "from nltk.corpus import stopwords\n",
    "from nltk.stem.wordnet import WordNetLemmatizer\n",
    "import string\n",
    "import nltk\n",
    "import pandas as pd\n",
    "import spacy\n",
    "import time\n",
    "import graphviz\n",
    "\n",
    "# NOTE: stopwords include pronouns! TODO: make custom stop words list?\n",
    "nltk.download('stopwords')\n",
    "nltk.download('wordnet')\n",
    "nltk.download('punkt')"
   ]
  },
  {
   "cell_type": "code",
   "execution_count": 6,
   "metadata": {},
   "outputs": [
    {
     "name": "stderr",
     "output_type": "stream",
     "text": [
      "distributed.scheduler - INFO - Clear task state\n",
      "distributed.scheduler - INFO -   Scheduler at: tcp://172.31.27.130:36809\n",
      "distributed.scheduler - INFO -   dashboard at:                    :40327\n",
      "distributed.scheduler - INFO - Receive client connection: Client-3225a258-c5b3-11eb-8b6f-0a4f5d52e9a9\n",
      "distributed.core - INFO - Starting established connection\n"
     ]
    }
   ],
   "source": [
    "# Create a cluster where each worker has 1 cores and 4 GiB of memory:\n",
    "cluster = YarnCluster(environment=\"/home/hadoop/environment.tar.gz\",\n",
    "                      worker_vcores = 1,\n",
    "                      worker_memory = \"4GiB\"\n",
    "                      )\n",
    "\n",
    "# Scale cluster out to 8 such workers:\n",
    "cluster.scale(8)\n",
    "\n",
    "# Connect to the cluster (before proceeding, you should wait for workers to be registered by the dask scheduler, as below):\n",
    "client = Client(cluster)"
   ]
  },
  {
   "cell_type": "code",
   "execution_count": 51,
   "metadata": {},
   "outputs": [
    {
     "data": {
      "text/html": [
       "<table style=\"border: 2px solid white;\">\n",
       "<tr>\n",
       "<td style=\"vertical-align: top; border: 0px solid white\">\n",
       "<h3 style=\"text-align: left;\">Client</h3>\n",
       "<ul style=\"text-align: left; list-style: none; margin: 0; padding: 0;\">\n",
       "  <li><b>Scheduler: </b>tcp://172.31.27.130:36809</li>\n",
       "  <li><b>Dashboard: </b><a href='/proxy/40327/status' target='_blank'>/proxy/40327/status</a></li>\n",
       "</ul>\n",
       "</td>\n",
       "<td style=\"vertical-align: top; border: 0px solid white\">\n",
       "<h3 style=\"text-align: left;\">Cluster</h3>\n",
       "<ul style=\"text-align: left; list-style:none; margin: 0; padding: 0;\">\n",
       "  <li><b>Workers: </b>5</li>\n",
       "  <li><b>Cores: </b>5</li>\n",
       "  <li><b>Memory: </b>20.00 GiB</li>\n",
       "</ul>\n",
       "</td>\n",
       "</tr>\n",
       "</table>"
      ],
      "text/plain": [
       "<Client: 'tcp://172.31.27.130:36809' processes=5 threads=5, memory=20.00 GiB>"
      ]
     },
     "execution_count": 51,
     "metadata": {},
     "output_type": "execute_result"
    }
   ],
   "source": [
    "client"
   ]
  },
  {
   "cell_type": "code",
   "execution_count": 135,
   "metadata": {},
   "outputs": [],
   "source": [
    "# text cleaning adatped from: https://github.com/xssChauhan/Blog-Posts/blob/master/dask-text-processing/Dask%20Text%20Processing.ipynb\n",
    "\n",
    "import string\n",
    "import unicodedata\n",
    "import re\n",
    "\n",
    "def clean_comments(comment):\n",
    "    '''\n",
    "    '''\n",
    "    new_word_lst = []\n",
    "    words_lst = comment.split()\n",
    "    for word in words_lst:\n",
    "        delete_dict = {sp_character: '' for sp_character in string.punctuation}\n",
    "        delete_dict[' '] = ''\n",
    "        table = str.maketrans(delete_dict)\n",
    "        word = word.translate(table)\n",
    "        new_word_lst.append(word)\n",
    "        \n",
    "    comment = new_word_lst\n",
    "    comment = [word.lower() for word in comment]\n",
    "    comment = ' '.join(comment)\n",
    "#   comment = unicodedata.normalize('NFKD', comment).encode('ascii', 'ignore').decode('ascii') # I dont know if this is working, and we have to remove links\n",
    "\n",
    "\n",
    "    return comment\n",
    "\n",
    "from nltk.corpus import stopwords\n",
    "\n",
    "stop_words = set(stopwords.words(\"english\"))\n",
    "keep_stop = set(['she', 'her', 'hers', 'herself'])\n",
    "mod_stop_words = stop_words - keep_stop\n",
    "\n",
    "\n",
    "def remove_stopwords(comment):\n",
    "    '''\n",
    "    '''\n",
    "    comment = comment.split()\n",
    "    no_stop_words = [word for word in comment if word not in mod_stop_words]        \n",
    "    no_stop_words = ' '.join(no_stop_words)\n",
    "    return no_stop_words\n",
    "\n",
    "import spacy\n",
    "\n",
    "nlp = spacy.load('en_core_web_sm')\n",
    "\n",
    "def lemmatize(comment, nlp = nlp):\n",
    "    '''\n",
    "    '''\n",
    "    \n",
    "    word_join = nlp(comment)\n",
    "    lemmatized = [word.lemma_ for word in word_join]\n",
    "    \n",
    "    return lemmatized\n",
    "\n",
    "def clean_text(df):\n",
    "\n",
    "    df[\"cleaned_text\"] = df['comment'].map(clean_comments).map(remove_stopwords)\n",
    "    \n",
    "    return df\n",
    "        \n",
    "            "
   ]
  },
  {
   "cell_type": "code",
   "execution_count": 149,
   "metadata": {},
   "outputs": [],
   "source": [
    "comments_corpus = pickle.load(open(\"comments_corpus_final.pickle\",\"rb\"))"
   ]
  },
  {
   "cell_type": "code",
   "execution_count": 150,
   "metadata": {},
   "outputs": [],
   "source": [
    "import dask.dataframe as ddf\n",
    "\n",
    "# change corpus to dataframe\n",
    "subreddit_lst = []\n",
    "comment_lst = []\n",
    "time_lst = []\n",
    "for key in comments_corpus:\n",
    "    for comment, time in comments_corpus[key]:\n",
    "        subreddit_lst.append(key)\n",
    "        comment_lst.append(comment)\n",
    "        time_lst.append(time)\n",
    "        \n",
    "comments_df = pd.DataFrame(list(zip(subreddit_lst, comment_lst, time_lst)),\n",
    "                           columns = ['subreddit', 'comment', 'time created'])\n",
    "comments_df['cleaned_text'] = ''\n",
    "\n",
    "#convert to dask dataframe\n",
    "dask_dataframe = ddf.from_pandas(comments_df, npartitions=6)"
   ]
  },
  {
   "cell_type": "code",
   "execution_count": 151,
   "metadata": {},
   "outputs": [
    {
     "data": {
      "text/html": [
       "<div>\n",
       "<style scoped>\n",
       "    .dataframe tbody tr th:only-of-type {\n",
       "        vertical-align: middle;\n",
       "    }\n",
       "\n",
       "    .dataframe tbody tr th {\n",
       "        vertical-align: top;\n",
       "    }\n",
       "\n",
       "    .dataframe thead th {\n",
       "        text-align: right;\n",
       "    }\n",
       "</style>\n",
       "<table border=\"1\" class=\"dataframe\">\n",
       "  <thead>\n",
       "    <tr style=\"text-align: right;\">\n",
       "      <th></th>\n",
       "      <th>subreddit</th>\n",
       "      <th>comment</th>\n",
       "      <th>time created</th>\n",
       "      <th>cleaned_text</th>\n",
       "    </tr>\n",
       "  </thead>\n",
       "  <tbody>\n",
       "    <tr>\n",
       "      <th>0</th>\n",
       "      <td>TheRedPill</td>\n",
       "      <td>Why the fuck would you be friends with an ex?</td>\n",
       "      <td>1451606442</td>\n",
       "      <td></td>\n",
       "    </tr>\n",
       "    <tr>\n",
       "      <th>1</th>\n",
       "      <td>TheRedPill</td>\n",
       "      <td>Great story full of RP truths. Thanks. Conside...</td>\n",
       "      <td>1451606479</td>\n",
       "      <td></td>\n",
       "    </tr>\n",
       "    <tr>\n",
       "      <th>2</th>\n",
       "      <td>TheRedPill</td>\n",
       "      <td>Lets suss this out. \\n\\nFor one; she's either ...</td>\n",
       "      <td>1451606497</td>\n",
       "      <td></td>\n",
       "    </tr>\n",
       "    <tr>\n",
       "      <th>3</th>\n",
       "      <td>TheRedPill</td>\n",
       "      <td>Sounds like you may need some more treatment f...</td>\n",
       "      <td>1451606532</td>\n",
       "      <td></td>\n",
       "    </tr>\n",
       "    <tr>\n",
       "      <th>4</th>\n",
       "      <td>TheRedPill</td>\n",
       "      <td>hack her phone or fb, its the only way you'll ...</td>\n",
       "      <td>1451606539</td>\n",
       "      <td></td>\n",
       "    </tr>\n",
       "    <tr>\n",
       "      <th>...</th>\n",
       "      <td>...</td>\n",
       "      <td>...</td>\n",
       "      <td>...</td>\n",
       "      <td>...</td>\n",
       "    </tr>\n",
       "    <tr>\n",
       "      <th>574679</th>\n",
       "      <td>technews</td>\n",
       "      <td>PLEASE! I GET LIKE 3Mb/s I NEEEED THIS</td>\n",
       "      <td>1483147728</td>\n",
       "      <td></td>\n",
       "    </tr>\n",
       "    <tr>\n",
       "      <th>574680</th>\n",
       "      <td>technews</td>\n",
       "      <td>Took some screenshots if it gets removed avail...</td>\n",
       "      <td>1483189543</td>\n",
       "      <td></td>\n",
       "    </tr>\n",
       "    <tr>\n",
       "      <th>574681</th>\n",
       "      <td>technews</td>\n",
       "      <td>[removed]</td>\n",
       "      <td>1483199435</td>\n",
       "      <td></td>\n",
       "    </tr>\n",
       "    <tr>\n",
       "      <th>574682</th>\n",
       "      <td>technews</td>\n",
       "      <td>This is the best tl;dr I could make, [original...</td>\n",
       "      <td>1483205392</td>\n",
       "      <td></td>\n",
       "    </tr>\n",
       "    <tr>\n",
       "      <th>574683</th>\n",
       "      <td>technews</td>\n",
       "      <td>Good, LCD prices have been stagnant too long d...</td>\n",
       "      <td>1483215756</td>\n",
       "      <td></td>\n",
       "    </tr>\n",
       "  </tbody>\n",
       "</table>\n",
       "<p>574684 rows × 4 columns</p>\n",
       "</div>"
      ],
      "text/plain": [
       "         subreddit                                            comment  \\\n",
       "0       TheRedPill     Why the fuck would you be friends with an ex?    \n",
       "1       TheRedPill  Great story full of RP truths. Thanks. Conside...   \n",
       "2       TheRedPill  Lets suss this out. \\n\\nFor one; she's either ...   \n",
       "3       TheRedPill  Sounds like you may need some more treatment f...   \n",
       "4       TheRedPill  hack her phone or fb, its the only way you'll ...   \n",
       "...            ...                                                ...   \n",
       "574679    technews             PLEASE! I GET LIKE 3Mb/s I NEEEED THIS   \n",
       "574680    technews  Took some screenshots if it gets removed avail...   \n",
       "574681    technews                                          [removed]   \n",
       "574682    technews  This is the best tl;dr I could make, [original...   \n",
       "574683    technews  Good, LCD prices have been stagnant too long d...   \n",
       "\n",
       "        time created cleaned_text  \n",
       "0         1451606442               \n",
       "1         1451606479               \n",
       "2         1451606497               \n",
       "3         1451606532               \n",
       "4         1451606539               \n",
       "...              ...          ...  \n",
       "574679    1483147728               \n",
       "574680    1483189543               \n",
       "574681    1483199435               \n",
       "574682    1483205392               \n",
       "574683    1483215756               \n",
       "\n",
       "[574684 rows x 4 columns]"
      ]
     },
     "execution_count": 151,
     "metadata": {},
     "output_type": "execute_result"
    }
   ],
   "source": [
    "dask_dataframe.compute()"
   ]
  },
  {
   "cell_type": "code",
   "execution_count": 152,
   "metadata": {},
   "outputs": [],
   "source": [
    "result = dask_dataframe.map_partitions(clean_text, meta=dask_dataframe)"
   ]
  },
  {
   "cell_type": "code",
   "execution_count": 153,
   "metadata": {
    "scrolled": true
   },
   "outputs": [
    {
     "data": {
      "text/html": [
       "<div>\n",
       "<style scoped>\n",
       "    .dataframe tbody tr th:only-of-type {\n",
       "        vertical-align: middle;\n",
       "    }\n",
       "\n",
       "    .dataframe tbody tr th {\n",
       "        vertical-align: top;\n",
       "    }\n",
       "\n",
       "    .dataframe thead th {\n",
       "        text-align: right;\n",
       "    }\n",
       "</style>\n",
       "<table border=\"1\" class=\"dataframe\">\n",
       "  <thead>\n",
       "    <tr style=\"text-align: right;\">\n",
       "      <th></th>\n",
       "      <th>subreddit</th>\n",
       "      <th>comment</th>\n",
       "      <th>time created</th>\n",
       "      <th>cleaned_text</th>\n",
       "    </tr>\n",
       "  </thead>\n",
       "  <tbody>\n",
       "    <tr>\n",
       "      <th>0</th>\n",
       "      <td>TheRedPill</td>\n",
       "      <td>Why the fuck would you be friends with an ex?</td>\n",
       "      <td>1451606442</td>\n",
       "      <td>fuck would friends ex</td>\n",
       "    </tr>\n",
       "    <tr>\n",
       "      <th>1</th>\n",
       "      <td>TheRedPill</td>\n",
       "      <td>Great story full of RP truths. Thanks. Conside...</td>\n",
       "      <td>1451606479</td>\n",
       "      <td>great story full rp truths thanks consider mak...</td>\n",
       "    </tr>\n",
       "    <tr>\n",
       "      <th>2</th>\n",
       "      <td>TheRedPill</td>\n",
       "      <td>Lets suss this out. \\n\\nFor one; she's either ...</td>\n",
       "      <td>1451606497</td>\n",
       "      <td>lets suss one shes either got high paying job ...</td>\n",
       "    </tr>\n",
       "    <tr>\n",
       "      <th>3</th>\n",
       "      <td>TheRedPill</td>\n",
       "      <td>Sounds like you may need some more treatment f...</td>\n",
       "      <td>1451606532</td>\n",
       "      <td>sounds like may need treatment anxiety crucial...</td>\n",
       "    </tr>\n",
       "    <tr>\n",
       "      <th>4</th>\n",
       "      <td>TheRedPill</td>\n",
       "      <td>hack her phone or fb, its the only way you'll ...</td>\n",
       "      <td>1451606539</td>\n",
       "      <td>hack her phone fb way youll truly know think h...</td>\n",
       "    </tr>\n",
       "    <tr>\n",
       "      <th>...</th>\n",
       "      <td>...</td>\n",
       "      <td>...</td>\n",
       "      <td>...</td>\n",
       "      <td>...</td>\n",
       "    </tr>\n",
       "    <tr>\n",
       "      <th>574679</th>\n",
       "      <td>technews</td>\n",
       "      <td>PLEASE! I GET LIKE 3Mb/s I NEEEED THIS</td>\n",
       "      <td>1483147728</td>\n",
       "      <td>please get like 3mbs neeeed</td>\n",
       "    </tr>\n",
       "    <tr>\n",
       "      <th>574680</th>\n",
       "      <td>technews</td>\n",
       "      <td>Took some screenshots if it gets removed avail...</td>\n",
       "      <td>1483189543</td>\n",
       "      <td>took screenshots gets removed available httpii...</td>\n",
       "    </tr>\n",
       "    <tr>\n",
       "      <th>574681</th>\n",
       "      <td>technews</td>\n",
       "      <td>[removed]</td>\n",
       "      <td>1483199435</td>\n",
       "      <td>removed</td>\n",
       "    </tr>\n",
       "    <tr>\n",
       "      <th>574682</th>\n",
       "      <td>technews</td>\n",
       "      <td>This is the best tl;dr I could make, [original...</td>\n",
       "      <td>1483205392</td>\n",
       "      <td>best tldr could make originalhttpwwwreuterscom...</td>\n",
       "    </tr>\n",
       "    <tr>\n",
       "      <th>574683</th>\n",
       "      <td>technews</td>\n",
       "      <td>Good, LCD prices have been stagnant too long d...</td>\n",
       "      <td>1483215756</td>\n",
       "      <td>good lcd prices stagnant long due lack competi...</td>\n",
       "    </tr>\n",
       "  </tbody>\n",
       "</table>\n",
       "<p>574684 rows × 4 columns</p>\n",
       "</div>"
      ],
      "text/plain": [
       "         subreddit                                            comment  \\\n",
       "0       TheRedPill     Why the fuck would you be friends with an ex?    \n",
       "1       TheRedPill  Great story full of RP truths. Thanks. Conside...   \n",
       "2       TheRedPill  Lets suss this out. \\n\\nFor one; she's either ...   \n",
       "3       TheRedPill  Sounds like you may need some more treatment f...   \n",
       "4       TheRedPill  hack her phone or fb, its the only way you'll ...   \n",
       "...            ...                                                ...   \n",
       "574679    technews             PLEASE! I GET LIKE 3Mb/s I NEEEED THIS   \n",
       "574680    technews  Took some screenshots if it gets removed avail...   \n",
       "574681    technews                                          [removed]   \n",
       "574682    technews  This is the best tl;dr I could make, [original...   \n",
       "574683    technews  Good, LCD prices have been stagnant too long d...   \n",
       "\n",
       "        time created                                       cleaned_text  \n",
       "0         1451606442                              fuck would friends ex  \n",
       "1         1451606479  great story full rp truths thanks consider mak...  \n",
       "2         1451606497  lets suss one shes either got high paying job ...  \n",
       "3         1451606532  sounds like may need treatment anxiety crucial...  \n",
       "4         1451606539  hack her phone fb way youll truly know think h...  \n",
       "...              ...                                                ...  \n",
       "574679    1483147728                        please get like 3mbs neeeed  \n",
       "574680    1483189543  took screenshots gets removed available httpii...  \n",
       "574681    1483199435                                            removed  \n",
       "574682    1483205392  best tldr could make originalhttpwwwreuterscom...  \n",
       "574683    1483215756  good lcd prices stagnant long due lack competi...  \n",
       "\n",
       "[574684 rows x 4 columns]"
      ]
     },
     "execution_count": 153,
     "metadata": {},
     "output_type": "execute_result"
    }
   ],
   "source": [
    "cleaned_df = result.compute()"
   ]
  },
  {
   "cell_type": "code",
   "execution_count": 159,
   "metadata": {},
   "outputs": [
    {
     "name": "stdout",
     "output_type": "stream",
     "text": [
      "Dask DataFrame Structure:\n",
      "              subreddit comment time created cleaned_text\n",
      "npartitions=6                                            \n",
      "0                  bool    bool         bool         bool\n",
      "95781               ...     ...          ...          ...\n",
      "...                 ...     ...          ...          ...\n",
      "478905              ...     ...          ...          ...\n",
      "574683              ...     ...          ...          ...\n",
      "Dask Name: eq, 18 tasks\n"
     ]
    }
   ],
   "source": [
    "with open('reddit_full_cleaned.pickle', 'wb') as handle:\n",
    "    a = pickle.dump(cleaned_df, handle, protocol=pickle.HIGHEST_PROTOCOL)\n",
    "\n",
    "with open('reddit_full_cleaned.pickle', 'rb') as handle:\n",
    "    b = pickle.load(handle)\n",
    "print(a == b)\n"
   ]
  },
  {
   "cell_type": "code",
   "execution_count": 141,
   "metadata": {
    "scrolled": true
   },
   "outputs": [
    {
     "data": {
      "image/png": "[encoded data removed]",
      "text/plain": [
       "<IPython.core.display.Image object>"
      ]
     },
     "execution_count": 141,
     "metadata": {},
     "output_type": "execute_result"
    }
   ],
   "source": [
    "result.visualize()"
   ]
  }
 ],
 "metadata": {
  "kernelspec": {
   "display_name": "Python 3",
   "language": "python",
   "name": "python3"
  },
  "language_info": {
   "codemirror_mode": {
    "name": "ipython",
    "version": 3
   },
   "file_extension": ".py",
   "mimetype": "text/x-python",
   "name": "python",
   "nbconvert_exporter": "python",
   "pygments_lexer": "ipython3",
   "version": "3.7.7"
  }
 },
 "nbformat": 4,
 "nbformat_minor": 4
}
